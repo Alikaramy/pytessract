{
 "cells": [
  {
   "cell_type": "code",
   "execution_count": null,
   "id": "af15a344",
   "metadata": {},
   "outputs": [],
   "source": [
    "import pytesseract"
   ]
  },
  {
   "cell_type": "code",
   "execution_count": null,
   "id": "face8eae",
   "metadata": {},
   "outputs": [],
   "source": [
    "import cv2"
   ]
  },
  {
   "cell_type": "code",
   "execution_count": null,
   "id": "a3dadcf1",
   "metadata": {},
   "outputs": [],
   "source": [
    "import tkinter as tk"
   ]
  },
  {
   "cell_type": "code",
   "execution_count": null,
   "id": "3c2176c6",
   "metadata": {},
   "outputs": [],
   "source": [
    "from tkinter import filedialog"
   ]
  },
  {
   "cell_type": "code",
   "execution_count": null,
   "id": "98bb8d94",
   "metadata": {},
   "outputs": [],
   "source": [
    "lang=''"
   ]
  },
  {
   "cell_type": "code",
   "execution_count": null,
   "id": "225bd4ab",
   "metadata": {},
   "outputs": [],
   "source": [
    "\n",
    "def button1_click():\n",
    "    global lang\n",
    "    lang='english'\n",
    "    print(\"selected english\")\n",
    "    root.destroy()\n",
    "\n",
    "def button2_click():\n",
    "    global lang\n",
    "    lang='farsi'\n",
    "    print(\"seleted farsi\")\n",
    "    root.destroy()\n",
    "    \n",
    "    \n",
    "root = tk.Tk()\n",
    "\n",
    "root.title(\"languige\")\n",
    "\n",
    "\n",
    "button1 = tk.Button(root, text=\"english\", command=button1_click)\n",
    "button1.pack()\n",
    "\n",
    "\n",
    "button2 = tk.Button(root, text=\"farsi\", command=button2_click)\n",
    "button2.pack()\n",
    "\n",
    "root.mainloop()"
   ]
  },
  {
   "cell_type": "code",
   "execution_count": null,
   "id": "258a68d7",
   "metadata": {},
   "outputs": [],
   "source": [
    "def open_image():\n",
    "    \n",
    "    global file_path\n",
    "    file_path = filedialog.askopenfilename()\n",
    "    global imag\n",
    "    imag=cv2.imread(file_path)\n",
    "    root.destroy()\n",
    "    \n",
    "root = tk.Tk()\n",
    "root.title(\"Image Viewer\")\n",
    "\n",
    "button = tk.Button(root, text=\"Open Image\", command=open_image)\n",
    "button.pack()\n",
    "\n",
    "label = tk.Label(root)\n",
    "label.pack()\n",
    "\n",
    "root.mainloop()"
   ]
  },
  {
   "cell_type": "code",
   "execution_count": null,
   "id": "485f12dc",
   "metadata": {},
   "outputs": [],
   "source": [
    "try:\n",
    "    image=cv2.cvtColor(imag,cv2.COLOR_RGB2GRAY)\n",
    "except:\n",
    "    print('invalid format')"
   ]
  },
  {
   "cell_type": "code",
   "execution_count": null,
   "id": "b727efe4",
   "metadata": {},
   "outputs": [],
   "source": [
    "def englang():\n",
    "    pytesseract.pytesseract.tesseract_cmd=r\"C:\\\\Program Files\\\\Tesseract-OCR\\\\tesseract.exe\"\n",
    "    result=pytesseract.image_to_string(image,lang='eng')\n",
    "    with open('converted image.txt',mode='w',encoding='utf-8') as textfile:\n",
    "        textfile.write(result)\n",
    "        print(result)"
   ]
  },
  {
   "cell_type": "code",
   "execution_count": null,
   "id": "8ffbf7ab",
   "metadata": {},
   "outputs": [],
   "source": [
    "def falang():\n",
    "    pytesseract.pytesseract.tesseract_cmd=r\"C:\\\\Program Files\\\\Tesseract-OCR\\\\tesseract.exe\"\n",
    "    result=pytesseract.image_to_string(image,lang='fas')\n",
    "    with open('converted image.txt',mode='w',encoding='utf-8') as textfile:\n",
    "        textfile.write(result)\n",
    "        print(result)"
   ]
  },
  {
   "cell_type": "code",
   "execution_count": null,
   "id": "345d2be2",
   "metadata": {},
   "outputs": [],
   "source": [
    "import matplotlib.pyplot as plt\n",
    "plt.imshow(image)"
   ]
  },
  {
   "cell_type": "code",
   "execution_count": null,
   "id": "e5005482",
   "metadata": {},
   "outputs": [],
   "source": [
    "if lang=='english':\n",
    "    englang()\n",
    "elif lang=='farsi':\n",
    "    falang()    "
   ]
  },
  {
   "cell_type": "code",
   "execution_count": null,
   "id": "e25c8993",
   "metadata": {},
   "outputs": [],
   "source": []
  }
 ],
 "metadata": {
  "kernelspec": {
   "display_name": "Python 3 (ipykernel)",
   "language": "python",
   "name": "python3"
  },
  "language_info": {
   "codemirror_mode": {
    "name": "ipython",
    "version": 3
   },
   "file_extension": ".py",
   "mimetype": "text/x-python",
   "name": "python",
   "nbconvert_exporter": "python",
   "pygments_lexer": "ipython3",
   "version": "3.9.13"
  }
 },
 "nbformat": 4,
 "nbformat_minor": 5
}
